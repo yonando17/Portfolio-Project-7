{
 "cells": [
  {
   "cell_type": "markdown",
   "id": "d64bbb02-4d23-4dc4-a2cb-86020820c367",
   "metadata": {},
   "source": [
    "File Sorter"
   ]
  },
  {
   "cell_type": "code",
   "execution_count": 1,
   "id": "78b8571e-1544-4e31-9eed-120275996296",
   "metadata": {},
   "outputs": [],
   "source": [
    "import os, shutil"
   ]
  },
  {
   "cell_type": "code",
   "execution_count": 6,
   "id": "b8e426a5-cab1-4130-bf1d-1fb4a6b5b626",
   "metadata": {},
   "outputs": [],
   "source": [
    "path = r\"D:/Data Analyst/4.Python/File Sorter/File/\""
   ]
  },
  {
   "cell_type": "code",
   "execution_count": 14,
   "id": "a1b6c4b0-dbf5-4f81-9a5e-6204b481e44b",
   "metadata": {},
   "outputs": [],
   "source": [
    "file_names = os.listdir(path)"
   ]
  },
  {
   "cell_type": "code",
   "execution_count": 13,
   "id": "b79e92ec-0f45-4533-a7fa-15625322f15d",
   "metadata": {},
   "outputs": [
    {
     "name": "stdout",
     "output_type": "stream",
     "text": [
      "D:/Data Analyst/4.Python/File Sorter/File/csv files\n",
      "D:/Data Analyst/4.Python/File Sorter/File/image files\n",
      "D:/Data Analyst/4.Python/File Sorter/File/text files\n"
     ]
    }
   ],
   "source": [
    "folder_names = ['csv files', 'image files', 'text files']\n",
    "\n",
    "for loop in range(0,3):\n",
    "    if not os.path.exists(path + folder_names[loop]):\n",
    "        print(path + folder_names[loop])\n",
    "        os.makedirs(path + folder_names[loop])"
   ]
  },
  {
   "cell_type": "code",
   "execution_count": 17,
   "id": "1a461dac-5eed-4604-bb75-1222f8484ccd",
   "metadata": {},
   "outputs": [
    {
     "name": "stdout",
     "output_type": "stream",
     "text": [
      "there are files ini this path that were not moved!\n",
      "there are files ini this path that were not moved!\n",
      "there are files ini this path that were not moved!\n"
     ]
    }
   ],
   "source": [
    "for file in file_names:\n",
    "    if \".csv\" in file and not os.path.exists(path + \"csv files/\" + file):\n",
    "        shutil.move (path + file,path + \"csv files/\" + file)\n",
    "    elif \".png\" in file and not os.path.exists(path + \"image files/\" + file):\n",
    "        shutil.move (path + file,path + \"image files/\" + file)\n",
    "    elif \".txt\" in file and not os.path.exists(path + \"text files/\" + file):\n",
    "        shutil.move (path + file,path + \"text files/\" + file)\n",
    "    else:\n",
    "        print(\"there are files ini this path that were not moved!\")"
   ]
  },
  {
   "cell_type": "code",
   "execution_count": null,
   "id": "9f6cea9c-953c-4b90-b8b6-5cd58c5eb204",
   "metadata": {},
   "outputs": [],
   "source": []
  }
 ],
 "metadata": {
  "kernelspec": {
   "display_name": "Python 3 (ipykernel)",
   "language": "python",
   "name": "python3"
  },
  "language_info": {
   "codemirror_mode": {
    "name": "ipython",
    "version": 3
   },
   "file_extension": ".py",
   "mimetype": "text/x-python",
   "name": "python",
   "nbconvert_exporter": "python",
   "pygments_lexer": "ipython3",
   "version": "3.11.7"
  }
 },
 "nbformat": 4,
 "nbformat_minor": 5
}
