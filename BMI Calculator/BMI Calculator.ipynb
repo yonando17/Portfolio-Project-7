{
 "cells": [
  {
   "cell_type": "code",
   "execution_count": null,
   "id": "caf66b26-b71f-4de8-818d-6a1bfacc6ede",
   "metadata": {},
   "outputs": [],
   "source": [
    "#BMI Indonesia [berat badan (kg) : (tinggi badan(m))kuadrat] atau [berat badan (kg) : (tinggi badan (m) x tinggi badan (m))]"
   ]
  },
  {
   "cell_type": "code",
   "execution_count": 29,
   "id": "6f5f6555-09e1-4661-ae47-43b75a0d6a72",
   "metadata": {},
   "outputs": [
    {
     "name": "stdin",
     "output_type": "stream",
     "text": [
      "Enter your name:  heru\n",
      "Enter your weight in kg:  60\n",
      "Enter yout height in centimeters:  150\n"
     ]
    },
    {
     "name": "stdout",
     "output_type": "stream",
     "text": [
      "26.67\n"
     ]
    }
   ],
   "source": [
    "name = input(\"Enter your name: \")\n",
    "\n",
    "weight = int(input(\"Enter your weight in kg: \"))\n",
    "\n",
    "height = int(input(\"Enter yout height in centimeters: \"))\n",
    "height_in_meter = height/100\n",
    "new_height = height_in_meter\n",
    "\n",
    "BMI = weight / (new_height * new_height)\n",
    "\n",
    "print (round(BMI,2))\n"
   ]
  },
  {
   "cell_type": "code",
   "execution_count": null,
   "id": "f6116427-2e50-42d8-bb73-7e95053c1e78",
   "metadata": {},
   "outputs": [],
   "source": [
    "BMI Classification Table\n",
    "BMI\tClassification\n",
    "Under 18.5\tUnderweight\n",
    "18.5 - 24.9\tNormal Weight\n",
    "25-29.9\tOverweight\n",
    "30-34.9\tObesity Class I\n",
    "35-39.9\tObesity Class II\n",
    "Over 40\tObesity Class III"
   ]
  },
  {
   "cell_type": "code",
   "execution_count": 31,
   "id": "06bb87d0-253a-46da-8629-1f0ea719d34e",
   "metadata": {},
   "outputs": [
    {
     "name": "stdout",
     "output_type": "stream",
     "text": [
      "heru,you are overweight.\n"
     ]
    }
   ],
   "source": [
    "if BMI > 0:\n",
    "    if(BMI < 18.5):\n",
    "            print(name +\",you are underweight.\")\n",
    "    elif(BMI <= 24.9):\n",
    "            print(name +\",you are normal weight.\")\n",
    "    elif(BMI <= 29.9):\n",
    "            print(name +\",you are overweight.\")\n",
    "    elif(BMI <= 34.9):\n",
    "            print(name +\",you are Obesity Class I.\")\n",
    "    elif(BMI <= 39.9):\n",
    "            print(name +\",you are Obesity Class II.\")\n",
    "    else:\n",
    "        print(name +\",you are Obesity Class III.\")\n",
    "else:\n",
    "    print(\"Enter valid inputs\")"
   ]
  },
  {
   "cell_type": "code",
   "execution_count": null,
   "id": "b8a96e71-c600-4871-a5d6-be25231ea925",
   "metadata": {},
   "outputs": [],
   "source": []
  }
 ],
 "metadata": {
  "kernelspec": {
   "display_name": "Python 3 (ipykernel)",
   "language": "python",
   "name": "python3"
  },
  "language_info": {
   "codemirror_mode": {
    "name": "ipython",
    "version": 3
   },
   "file_extension": ".py",
   "mimetype": "text/x-python",
   "name": "python",
   "nbconvert_exporter": "python",
   "pygments_lexer": "ipython3",
   "version": "3.11.7"
  }
 },
 "nbformat": 4,
 "nbformat_minor": 5
}
